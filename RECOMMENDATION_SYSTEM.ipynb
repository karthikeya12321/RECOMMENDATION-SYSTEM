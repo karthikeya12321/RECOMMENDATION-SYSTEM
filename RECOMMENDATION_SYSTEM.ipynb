{
  "nbformat": 4,
  "nbformat_minor": 0,
  "metadata": {
    "colab": {
      "provenance": []
    },
    "kernelspec": {
      "name": "python3",
      "display_name": "Python 3"
    },
    "language_info": {
      "name": "python"
    }
  },
  "cells": [
    {
      "cell_type": "code",
      "execution_count": 2,
      "metadata": {
        "colab": {
          "base_uri": "https://localhost:8080/",
          "height": 0
        },
        "id": "GVfqoKznMhgj",
        "outputId": "05319250-ba24-415a-9875-06904b55a44d"
      },
      "outputs": [
        {
          "output_type": "stream",
          "name": "stdout",
          "text": [
            "User 1 has already rated:\n",
            "     userId  movieId  rating  timestamp  \\\n",
            "231       1     5060     5.0  964984002   \n",
            "185       1     2872     5.0  964981680   \n",
            "89        1     1291     5.0  964981909   \n",
            "90        1     1298     5.0  964984086   \n",
            "190       1     2948     5.0  964982191   \n",
            "\n",
            "                                         title                     genres  \n",
            "231               M*A*S*H (a.k.a. MASH) (1970)           Comedy|Drama|War  \n",
            "185                           Excalibur (1981)          Adventure|Fantasy  \n",
            "89   Indiana Jones and the Last Crusade (1989)           Action|Adventure  \n",
            "90                 Pink Floyd: The Wall (1982)              Drama|Musical  \n",
            "190               From Russia with Love (1963)  Action|Adventure|Thriller  \n",
            "\n",
            "Top 5 movie recommendations:\n",
            "      movieId                           title                 genres\n",
            "736      1036                 Die Hard (1988)  Action|Crime|Thriller\n",
            "844      1221  Godfather: Part II, The (1974)            Crime|Drama\n",
            "974      1387                     Jaws (1975)          Action|Horror\n",
            "615       858           Godfather, The (1972)            Crime|Drama\n",
            "1328     1968      Breakfast Club, The (1985)           Comedy|Drama\n"
          ]
        }
      ],
      "source": [
        "import pandas as pd\n",
        "import numpy as np\n",
        "from scipy.sparse.linalg import svds\n",
        "import zipfile\n",
        "import io\n",
        "import requests\n",
        "\n",
        "# Load the dataset\n",
        "url = 'https://files.grouplens.org/datasets/movielens/ml-latest-small.zip'\n",
        "response = requests.get(url)\n",
        "zip_file = zipfile.ZipFile(io.BytesIO(response.content))\n",
        "\n",
        "# Extract necessary files\n",
        "zip_file.extractall('ml-latest-small')\n",
        "\n",
        "# Load the data into DataFrames\n",
        "ratings = pd.read_csv('ml-latest-small/ml-latest-small/ratings.csv')\n",
        "movies = pd.read_csv('ml-latest-small/ml-latest-small/movies.csv')\n",
        "\n",
        "# Create user-item interaction matrix\n",
        "user_item_matrix = ratings.pivot(index='userId', columns='movieId', values='rating').fillna(0)\n",
        "\n",
        "# Convert to numpy array\n",
        "R = user_item_matrix.values\n",
        "user_ratings_mean = np.mean(R, axis=1)\n",
        "R_demeaned = R - user_ratings_mean.reshape(-1, 1)\n",
        "\n",
        "# Perform SVD\n",
        "U, sigma, Vt = svds(R_demeaned, k=50)\n",
        "sigma = np.diag(sigma)\n",
        "\n",
        "# Predict ratings\n",
        "all_user_predicted_ratings = np.dot(np.dot(U, sigma), Vt) + user_ratings_mean.reshape(-1, 1)\n",
        "preds_df = pd.DataFrame(all_user_predicted_ratings, columns=user_item_matrix.columns)\n",
        "\n",
        "# Recommend movies to a specific user\n",
        "def recommend_movies(preds_df, user_id, movies_df, original_ratings_df, num_recommendations=5):\n",
        "    user_row_number = user_id - 1  # User ID starts at 1 in the dataset\n",
        "    sorted_user_predictions = preds_df.iloc[user_row_number].sort_values(ascending=False)\n",
        "\n",
        "    user_data = original_ratings_df[original_ratings_df.userId == user_id]\n",
        "    user_full = (user_data.merge(movies_df, how='left', left_on='movieId', right_on='movieId').\n",
        "                 sort_values(['rating'], ascending=False))\n",
        "\n",
        "    recommendations = (movies_df[~movies_df['movieId'].isin(user_full['movieId'])].\n",
        "                        merge(pd.DataFrame(sorted_user_predictions).reset_index(), how='left',\n",
        "                              left_on='movieId', right_on='movieId').\n",
        "                        rename(columns={user_row_number: 'Predictions'}).\n",
        "                        sort_values('Predictions', ascending=False).\n",
        "                        iloc[:num_recommendations, :-1])\n",
        "\n",
        "    return user_full, recommendations\n",
        "\n",
        "# Example usage\n",
        "user_id = 1\n",
        "user_full, recommendations = recommend_movies(preds_df, user_id, movies, ratings, num_recommendations=5)\n",
        "\n",
        "print(f\"User {user_id} has already rated:\")\n",
        "print(user_full.head())\n",
        "\n",
        "print(\"\\nTop 5 movie recommendations:\")\n",
        "print(recommendations)\n"
      ]
    }
  ]
}